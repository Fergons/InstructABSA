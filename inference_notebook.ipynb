{
 "cells": [
  {
   "cell_type": "code",
   "execution_count": 2,
   "metadata": {},
   "outputs": [],
   "source": [
    "from transformers import AutoTokenizer, AutoModelForSeq2SeqLM\n",
    "\n",
    "import warnings\n",
    "warnings.filterwarnings('ignore')"
   ]
  },
  {
   "attachments": {},
   "cell_type": "markdown",
   "metadata": {},
   "source": [
    "## Aspect Term Extraction"
   ]
  },
  {
   "cell_type": "code",
   "execution_count": 4,
   "metadata": {},
   "outputs": [
    {
     "name": "stdout",
     "output_type": "stream",
     "text": [
      "Model output:  cab ride, service\n"
     ]
    }
   ],
   "source": [
    "tokenizer = AutoTokenizer.from_pretrained(\"kevinscaria/ate_tk-instruct-base-def-pos-neg-neut-combined\")\n",
    "model = AutoModelForSeq2SeqLM.from_pretrained(\"kevinscaria/ate_tk-instruct-base-def-pos-neg-neut-combined\")\n",
    "\n",
    "bos_instruction = \"\"\"Definition: The output will be the aspects (both implicit and explicit) which have an associated opinion that are extracted from the input text. In cases where there are no aspects the output should be noaspectterm.\n",
    "    Positive example 1-\n",
    "    input: I charge it at night and skip taking the cord with me because of the good battery life.\n",
    "    output: battery life\n",
    "    Positive example 2-\n",
    "    input: I even got my teenage son one, because of the features that it offers, like, iChat, Photobooth, garage band and more!.\n",
    "    output: features, iChat, Photobooth, garage band\n",
    "    Negative example 1-\n",
    "    input: Speaking of the browser, it too has problems.\n",
    "    output: browser\n",
    "    Negative example 2-\n",
    "    input: The keyboard is too slick.\n",
    "    output: keyboard\n",
    "    Neutral example 1-\n",
    "    input: I took it back for an Asus and same thing- blue screen which required me to remove the battery to reset.\n",
    "    output: battery\n",
    "    Neutral example 2-\n",
    "    input: Nightly my computer defrags itself and runs a virus scan.\n",
    "    output: virus scan\n",
    "    Now complete the following example-\n",
    "    input: \"\"\"\n",
    "delim_instruct = ''\n",
    "eos_instruct = ' \\noutput:'\n",
    "text = 'The cab ride was amazing but the service was pricey.'\n",
    "\n",
    "tokenized_text = tokenizer(bos_instruction + text + delim_instruct + eos_instruct, return_tensors=\"pt\")\n",
    "output = model.generate(tokenized_text.input_ids)\n",
    "print('Model output: ', tokenizer.decode(output[0], skip_special_tokens=True))"
   ]
  },
  {
   "attachments": {},
   "cell_type": "markdown",
   "metadata": {},
   "source": [
    "## Aspect Term Sentiment Classification"
   ]
  },
  {
   "cell_type": "code",
   "execution_count": 8,
   "metadata": {},
   "outputs": [
    {
     "name": "stdout",
     "output_type": "stream",
     "text": [
      "Model output for cab ride:  positive\n",
      "Model output for driver:  negative\n"
     ]
    }
   ],
   "source": [
    "tokenizer = AutoTokenizer.from_pretrained(\"kevinscaria/atsc_tk-instruct-base-def-pos-neg-neut-combined\")\n",
    "model = AutoModelForSeq2SeqLM.from_pretrained(\"kevinscaria/atsc_tk-instruct-base-def-pos-neg-neut-combined\")\n",
    "\n",
    "bos_instruct = \"\"\"Definition: The output will be 'positive' if the aspect identified in the sentence contains a positive sentiment. If the sentiment of the identified aspect in the input is negative the answer will be 'negative'. \n",
    "    Otherwise, the output should be 'neutral'. For aspects which are classified as noaspectterm, the sentiment is none.\n",
    "    Positive example 1-\n",
    "    input: With the great variety on the menu , I eat here often and never get bored. The aspect is menu.\n",
    "    output: positive\n",
    "    Positive example 2- \n",
    "    input: Great food, good size menu, great service and an unpretensious setting. The aspect is food.\n",
    "    output: positive\n",
    "    Negative example 1-\n",
    "    input: They did not have mayonnaise, forgot our toast, left out ingredients (ie cheese in an omelet), below hot temperatures and the bacon was so over cooked it crumbled on the plate when you touched it. The aspect is toast.\n",
    "    output: negative\n",
    "    Negative example 2-\n",
    "    input: The seats are uncomfortable if you are sitting against the wall on wooden benches. The aspect is seats.\n",
    "    output: negative\n",
    "    Neutral example 1-\n",
    "    input: I asked for seltzer with lime, no ice. The aspect is seltzer with lime.\n",
    "    output: neutral\n",
    "    Neutral example 2-\n",
    "    input: They wouldnt even let me finish my glass of wine before offering another. The aspect is glass of wine.\n",
    "    output: neutral\n",
    "    Now complete the following example-\n",
    "    input: \"\"\"\n",
    "delim_instruct = ' The aspect is '\n",
    "eos_instruct = '.\\noutput:'\n",
    "text = 'The cab ride was amazing but the driver was rude.'\n",
    "aspect_term = 'cab ride'\n",
    "\n",
    "tokenized_text = tokenizer(bos_instruction + text + delim_instruct + aspect_term + eos_instruct, return_tensors=\"pt\")\n",
    "output = model.generate(tokenized_text.input_ids)\n",
    "print(f'Model output for {aspect_term}: ', tokenizer.decode(output[0], skip_special_tokens=True))\n",
    "\n",
    "aspect_term = 'driver'\n",
    "tokenized_text = tokenizer(bos_instruction + text + delim_instruct + aspect_term + eos_instruct, return_tensors=\"pt\")\n",
    "output = model.generate(tokenized_text.input_ids)\n",
    "print(f'Model output for {aspect_term}: ', tokenizer.decode(output[0], skip_special_tokens=True))"
   ]
  },
  {
   "attachments": {},
   "cell_type": "markdown",
   "metadata": {},
   "source": [
    "## Joint Task - Aspect Term and Polarity Co Extraction"
   ]
  },
  {
   "cell_type": "code",
   "execution_count": 3,
   "metadata": {},
   "outputs": [
    {
     "data": {
      "text/plain": "Downloading:   0%|          | 0.00/2.57k [00:00<?, ?B/s]",
      "application/vnd.jupyter.widget-view+json": {
       "version_major": 2,
       "version_minor": 0,
       "model_id": "c073b5eef28c4169bff7d09a20e8c826"
      },
      "application/json": {
       "n": 0,
       "total": 2571,
       "elapsed": 0.005063533782958984,
       "ncols": null,
       "nrows": null,
       "prefix": "Downloading",
       "ascii": false,
       "unit": "B",
       "unit_scale": true,
       "rate": null,
       "bar_format": null,
       "postfix": null,
       "unit_divisor": 1000,
       "initial": 0,
       "colour": null
      }
     },
     "metadata": {},
     "output_type": "display_data"
    },
    {
     "data": {
      "text/plain": "Downloading:   0%|          | 0.00/792k [00:00<?, ?B/s]",
      "application/vnd.jupyter.widget-view+json": {
       "version_major": 2,
       "version_minor": 0,
       "model_id": "ba234d2a31d648d699eec4733672fa30"
      },
      "application/json": {
       "n": 0,
       "total": 791656,
       "elapsed": 0.008107185363769531,
       "ncols": null,
       "nrows": null,
       "prefix": "Downloading",
       "ascii": false,
       "unit": "B",
       "unit_scale": true,
       "rate": null,
       "bar_format": null,
       "postfix": null,
       "unit_divisor": 1000,
       "initial": 0,
       "colour": null
      }
     },
     "metadata": {},
     "output_type": "display_data"
    },
    {
     "data": {
      "text/plain": "Downloading:   0%|          | 0.00/2.42M [00:00<?, ?B/s]",
      "application/vnd.jupyter.widget-view+json": {
       "version_major": 2,
       "version_minor": 0,
       "model_id": "6069de9113664485a81dbe5ac07ce57b"
      },
      "application/json": {
       "n": 0,
       "total": 2422261,
       "elapsed": 0.005925416946411133,
       "ncols": null,
       "nrows": null,
       "prefix": "Downloading",
       "ascii": false,
       "unit": "B",
       "unit_scale": true,
       "rate": null,
       "bar_format": null,
       "postfix": null,
       "unit_divisor": 1000,
       "initial": 0,
       "colour": null
      }
     },
     "metadata": {},
     "output_type": "display_data"
    },
    {
     "data": {
      "text/plain": "Downloading:   0%|          | 0.00/2.20k [00:00<?, ?B/s]",
      "application/vnd.jupyter.widget-view+json": {
       "version_major": 2,
       "version_minor": 0,
       "model_id": "53f2e9bc9b304b7a91b11c4675f85e94"
      },
      "application/json": {
       "n": 0,
       "total": 2201,
       "elapsed": 0.0055522918701171875,
       "ncols": null,
       "nrows": null,
       "prefix": "Downloading",
       "ascii": false,
       "unit": "B",
       "unit_scale": true,
       "rate": null,
       "bar_format": null,
       "postfix": null,
       "unit_divisor": 1000,
       "initial": 0,
       "colour": null
      }
     },
     "metadata": {},
     "output_type": "display_data"
    },
    {
     "data": {
      "text/plain": "Downloading:   0%|          | 0.00/776 [00:00<?, ?B/s]",
      "application/vnd.jupyter.widget-view+json": {
       "version_major": 2,
       "version_minor": 0,
       "model_id": "987cd0e0ae28445ba23a96589a02041c"
      },
      "application/json": {
       "n": 0,
       "total": 776,
       "elapsed": 0.0054590702056884766,
       "ncols": null,
       "nrows": null,
       "prefix": "Downloading",
       "ascii": false,
       "unit": "B",
       "unit_scale": true,
       "rate": null,
       "bar_format": null,
       "postfix": null,
       "unit_divisor": 1000,
       "initial": 0,
       "colour": null
      }
     },
     "metadata": {},
     "output_type": "display_data"
    },
    {
     "data": {
      "text/plain": "Downloading:   0%|          | 0.00/990M [00:00<?, ?B/s]",
      "application/vnd.jupyter.widget-view+json": {
       "version_major": 2,
       "version_minor": 0,
       "model_id": "e13521ad7c36487f80291949c81bace0"
      },
      "application/json": {
       "n": 0,
       "total": 990236853,
       "elapsed": 0.006188631057739258,
       "ncols": null,
       "nrows": null,
       "prefix": "Downloading",
       "ascii": false,
       "unit": "B",
       "unit_scale": true,
       "rate": null,
       "bar_format": null,
       "postfix": null,
       "unit_divisor": 1000,
       "initial": 0,
       "colour": null
      }
     },
     "metadata": {},
     "output_type": "display_data"
    },
    {
     "name": "stdout",
     "output_type": "stream",
     "text": [
      "Model output:  cab ride:positive, service:negative\n"
     ]
    }
   ],
   "source": [
    "tokenizer = AutoTokenizer.from_pretrained(\"kevinscaria/joint_tk-instruct-base-def-pos-neg-neut-combined\")\n",
    "model = AutoModelForSeq2SeqLM.from_pretrained(\"kevinscaria/joint_tk-instruct-base-def-pos-neg-neut-combined\")\n",
    "\n",
    "bos_instruction = \"\"\"Definition: The output will be the aspects (both implicit and explicit) and the aspects sentiment polarity. In cases where there are no aspects the output should be noaspectterm:none.\n",
    "    Positive example 1-\n",
    "    input: I charge it at night and skip taking the cord with me because of the good battery life.\n",
    "    output: battery life:positive, \n",
    "    Positive example 2-\n",
    "    input: I even got my teenage son one, because of the features that it offers, like, iChat, Photobooth, garage band and more!.\n",
    "    output: features:positive, iChat:positive, Photobooth:positive, garage band:positive\n",
    "    Negative example 1-\n",
    "    input: Speaking of the browser, it too has problems.\n",
    "    output: browser:negative\n",
    "    Negative example 2-\n",
    "    input: The keyboard is too slick.\n",
    "    output: keyboard:negative\n",
    "    Neutral example 1-\n",
    "    input: I took it back for an Asus and same thing- blue screen which required me to remove the battery to reset.\n",
    "    output: battery:neutral\n",
    "    Neutral example 2-\n",
    "    input: Nightly my computer defrags itself and runs a virus scan.\n",
    "    output: virus scan:neutral\n",
    "    Now complete the following example-\n",
    "    input: \"\"\"\n",
    "delim_instruct = ''\n",
    "eos_instruct = ' \\noutput:'\n",
    "text = 'The cab ride was amazing but the service was pricey.'\n",
    "\n",
    "tokenized_text = tokenizer(bos_instruction + text + delim_instruct + eos_instruct, return_tensors=\"pt\")\n",
    "output = model.generate(tokenized_text.input_ids)\n",
    "print('Model output: ', tokenizer.decode(output[0], skip_special_tokens=True))"
   ]
  },
  {
   "cell_type": "code",
   "execution_count": 98,
   "outputs": [
    {
     "name": "stdout",
     "output_type": "stream",
     "text": [
      "Model output:  noaspectterm:category:polarity\n"
     ]
    }
   ],
   "source": [
    "bos_instruction = \"\"\"Definition: Translate input to English and The output will be the aspects (both implicit and explicit), the aspects sentiment polarity and the aspects category. In cases where there are no aspects the output should be noaspectterm:category:polarity.\n",
    "    Positive example 1-\n",
    "    input: I charge it at night and skip taking the cord with me because of the good battery life.\n",
    "    output: battery life:hardware:positive,\n",
    "    Positive example 2-\n",
    "    input: 'Game is great and for that price it's amazing!'\n",
    "    output: game:software:positive, price:price:positive:\n",
    "    Negative example 1-\n",
    "    input: Speaking of the browser, it too has problems.\n",
    "    output: browser:software:negative\n",
    "    Negative example 2-\n",
    "    input: The keyboard is too slick.\n",
    "    output: keyboard:hardware:negative\n",
    "    Neutral example 1-\n",
    "    input: I took it back for an Asus and same thing- blue screen which required me to remove the battery to reset.\n",
    "    output: battery:hardware:neutral\n",
    "    Neutral example 2-\n",
    "    input: Nightly my computer defrags itself and runs a virus scan.\n",
    "    output: virus scan:hardware:neutral\n",
    "    Now complete the following example-\n",
    "    input: \"\"\"\n",
    "delim_instruct = ''\n",
    "eos_instruct = ' \\noutput:'\n",
    "text = ''\n",
    "tokenized_text = tokenizer(bos_instruction + text + delim_instruct + eos_instruct, return_tensors=\"pt\")\n",
    "output = model.generate(tokenized_text.input_ids)\n",
    "print('Model output: ', tokenizer.decode(output[0], skip_special_tokens=True))"
   ],
   "metadata": {
    "collapsed": false
   }
  },
  {
   "cell_type": "code",
   "execution_count": 99,
   "outputs": [
    {
     "data": {
      "text/plain": "249"
     },
     "execution_count": 99,
     "metadata": {},
     "output_type": "execute_result"
    }
   ],
   "source": [
    "len(tokenized_text.input_ids[0])"
   ],
   "metadata": {
    "collapsed": false
   }
  },
  {
   "cell_type": "markdown",
   "source": [],
   "metadata": {
    "collapsed": false
   }
  }
 ],
 "metadata": {
  "kernelspec": {
   "display_name": "basegpu",
   "language": "python",
   "name": "python3"
  },
  "language_info": {
   "codemirror_mode": {
    "name": "ipython",
    "version": 3
   },
   "file_extension": ".py",
   "mimetype": "text/x-python",
   "name": "python",
   "nbconvert_exporter": "python",
   "pygments_lexer": "ipython3",
   "version": "3.10.4"
  },
  "orig_nbformat": 4
 },
 "nbformat": 4,
 "nbformat_minor": 2
}
